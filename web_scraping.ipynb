{
 "cells": [
  {
   "cell_type": "code",
   "execution_count": null,
   "metadata": {},
   "outputs": [],
   "source": [
    "!pip install bs4"
   ]
  },
  {
   "cell_type": "code",
   "execution_count": 44,
   "metadata": {},
   "outputs": [],
   "source": [
    "import pandas as pd\n",
    "import matplotlib as plt\n",
    "\n",
    "import requests\n",
    "from bs4 import BeautifulSoup\n",
    "import pandas as pd\n",
    "import csv\n",
    "import time"
   ]
  },
  {
   "cell_type": "markdown",
   "metadata": {},
   "source": [
    "# Coleta de Dados"
   ]
  },
  {
   "cell_type": "code",
   "execution_count": 47,
   "metadata": {},
   "outputs": [],
   "source": [
    "user_agent = ({'User-Agent':\n",
    "\t\t\t'Mozilla/5.0 (Windows NT 10.0; Win64; x64) \\\n",
    "\t\t\tAppleWebKit/537.36 (KHTML, like Gecko) \\\n",
    "\t\t\tChrome/90.0.4430.212 Safari/537.36',\n",
    "\t\t\t'Accept-Language': 'en-US, en;q=0.5'})\n",
    "\n",
    "def get_page_contents(url):\n",
    "    page = requests.get(url, headers = user_agent)        \n",
    "    return BeautifulSoup(page.text, 'html.parser')"
   ]
  },
  {
   "cell_type": "code",
   "execution_count": 48,
   "metadata": {},
   "outputs": [],
   "source": [
    "def get_datdos(soup):\n",
    "    hotels = []\n",
    "    for name in soup.findAll('div',{'class':'f6431b446c a15b38c233'}): \n",
    "        hotels.append(name.text.strip())\n",
    "\n",
    "    print(\"Quantidade: \" + str(len(hotels)))\n",
    "    \n",
    "    return hotels"
   ]
  },
  {
   "cell_type": "code",
   "execution_count": 51,
   "metadata": {},
   "outputs": [],
   "source": [
    "def gerar_csv(lista, nome_arquivo):\n",
    "    dict = {'Hotel Names':lista,}\n",
    "    hoteis = pd.DataFrame.from_dict(dict)\n",
    "    hoteis.to_csv((\"csvs/\" + nome_arquivo + '.csv'), index=False)"
   ]
  },
  {
   "cell_type": "code",
   "execution_count": 52,
   "metadata": {},
   "outputs": [],
   "source": [
    "# Lista de URLs\n",
    "url_1 = ('https://www.booking.com/searchresults.pt-br.html?label=gen173nr-1FCAEoggI46AdIM1gEaCCIAQGYAS24ARnIAQzYAQHoAQH4AQuIAgGoAgO4AtuzvrEGwAIB0gIkZGU3OGY2YmUtZDZiMC00NGVkLThlNGQtZWVmMzc2NGM2MWFm2AIG4AIB&sid=7497f8875027f2a2c7a1e12f821f516c&aid=304142&ss=Cabo+Frio&ssne=Cabo+Frio&ssne_untouched=Cabo+Frio&lang=pt-br&src=searchresults&dest_id=-632162&dest_type=city&checkin=2024-05-27&checkout=2024-05-31&group_adults=1&no_rooms=1&group_children=0&nflt=mealplan%3D1')\n",
    "nome_1 = \"Cafe_da_manha_incluido\"\n",
    "\n",
    "url_2 = ('https://www.booking.com/searchresults.pt-br.html?label=gen173nr-1FCAEoggI46AdIM1gEaCCIAQGYAS24ARnIAQzYAQHoAQH4AQuIAgGoAgO4AtuzvrEGwAIB0gIkZGU3OGY2YmUtZDZiMC00NGVkLThlNGQtZWVmMzc2NGM2MWFm2AIG4AIB&sid=7497f8875027f2a2c7a1e12f821f516c&aid=304142&ss=Cabo+Frio&ssne=Cabo+Frio&ssne_untouched=Cabo+Frio&lang=pt-br&src=searchresults&dest_id=-632162&dest_type=city&checkin=2024-05-27&checkout=2024-05-31&group_adults=1&no_rooms=1&group_children=0&nflt=roomfacility%3D11')\n",
    "nome_2 = \"ar_condicionado\"\n",
    "\n",
    "url_3 = ('https://www.booking.com/searchresults.pt-br.html?label=gen173nr-1FCAEoggI46AdIM1gEaCCIAQGYAS24ARnIAQzYAQHoAQH4AQuIAgGoAgO4AtuzvrEGwAIB0gIkZGU3OGY2YmUtZDZiMC00NGVkLThlNGQtZWVmMzc2NGM2MWFm2AIG4AIB&sid=7497f8875027f2a2c7a1e12f821f516c&aid=304142&ss=Cabo+Frio&ssne=Cabo+Frio&ssne_untouched=Cabo+Frio&lang=pt-br&src=searchresults&dest_id=-632162&dest_type=city&checkin=2024-05-27&checkout=2024-05-31&group_adults=1&no_rooms=1&group_children=0&nflt=hotelfacility%3D433')\n",
    "nome_3 = \"piscina\"\n",
    "\n",
    "url_4 = ('https://www.booking.com/searchresults.pt-br.html?label=gen173nr-1FCAEoggI46AdIM1gEaCCIAQGYAS24ARnIAQzYAQHoAQH4AQuIAgGoAgO4AtuzvrEGwAIB0gIkZGU3OGY2YmUtZDZiMC00NGVkLThlNGQtZWVmMzc2NGM2MWFm2AIG4AIB&sid=7497f8875027f2a2c7a1e12f821f516c&aid=304142&ss=Cabo+Frio&ssne=Cabo+Frio&ssne_untouched=Cabo+Frio&lang=pt-br&src=searchresults&dest_id=-632162&dest_type=city&checkin=2024-05-27&checkout=2024-05-31&group_adults=1&no_rooms=1&group_children=0&nflt=hotelfacility%3D107')\n",
    "nome_4 = \"wifi_gratuito\"\n",
    "\n",
    "url_5 = ('https://www.booking.com/searchresults.pt-br.html?label=gen173nr-1FCAEoggI46AdIM1gEaCCIAQGYAS24ARnIAQzYAQHoAQH4AQuIAgGoAgO4AtuzvrEGwAIB0gIkZGU3OGY2YmUtZDZiMC00NGVkLThlNGQtZWVmMzc2NGM2MWFm2AIG4AIB&sid=7497f8875027f2a2c7a1e12f821f516c&aid=304142&ss=Cabo+Frio&ssne=Cabo+Frio&ssne_untouched=Cabo+Frio&lang=pt-br&src=searchresults&dest_id=-632162&dest_type=city&checkin=2024-05-27&checkout=2024-05-31&group_adults=1&no_rooms=1&group_children=0&nflt=hotelfacility%3D2')\n",
    "nome_5 = \"estacionamento\"\n",
    "\n",
    "url_6 = ('https://www.booking.com/searchresults.pt-br.html?label=gen173nr-1FCAEoggI46AdIM1gEaCCIAQGYAS24ARnIAQzYAQHoAQH4AQuIAgGoAgO4AtuzvrEGwAIB0gIkZGU3OGY2YmUtZDZiMC00NGVkLThlNGQtZWVmMzc2NGM2MWFm2AIG4AIB&sid=7497f8875027f2a2c7a1e12f821f516c&aid=304142&ss=Cabo+Frio&ssne=Cabo+Frio&ssne_untouched=Cabo+Frio&lang=pt-br&src=searchresults&dest_id=-632162&dest_type=city&checkin=2024-05-27&checkout=2024-05-31&group_adults=1&no_rooms=1&group_children=0&nflt=hotelfacility%3D4')\n",
    "nome_6 = \"pets\"\n",
    "\n",
    "url_7 = ('https://www.booking.com/searchresults.pt-br.html?label=gen173nr-1FCAEoggI46AdIM1gEaCCIAQGYAS24ARnIAQzYAQHoAQH4AQuIAgGoAgO4AtuzvrEGwAIB0gIkZGU3OGY2YmUtZDZiMC00NGVkLThlNGQtZWVmMzc2NGM2MWFm2AIG4AIB&sid=7497f8875027f2a2c7a1e12f821f516c&aid=304142&ss=Cabo+Frio&ssne=Cabo+Frio&ssne_untouched=Cabo+Frio&lang=pt-br&src=searchresults&dest_id=-632162&dest_type=city&checkin=2024-05-27&checkout=2024-05-31&group_adults=1&no_rooms=1&group_children=0&nflt=hotelfacility%3D3')\n",
    "nome_7 = \"com_rstaurante\"\n",
    "\n",
    "\n",
    "url_8 = ('https://www.booking.com/searchresults.pt-br.html?label=gen173nr-1FCAEoggI46AdIM1gEaCCIAQGYAS24ARnIAQzYAQHoAQH4AQuIAgGoAgO4AtuzvrEGwAIB0gIkZGU3OGY2YmUtZDZiMC00NGVkLThlNGQtZWVmMzc2NGM2MWFm2AIG4AIB&sid=7497f8875027f2a2c7a1e12f821f516c&aid=304142&ss=Cabo+Frio&ssne=Cabo+Frio&ssne_untouched=Cabo+Frio&lang=pt-br&src=searchresults&dest_id=-632162&dest_type=city&checkin=2024-05-27&checkout=2024-05-31&group_adults=1&no_rooms=1&group_children=0&nflt=hotelfacility%3D11')\n",
    "nome_8 = \"academia\"\n",
    "\n",
    "\n",
    "url_9 = ('https://www.booking.com/searchresults.pt-br.html?label=gen173nr-1FCAEoggI46AdIM1gEaCCIAQGYAS24ARnIAQzYAQHoAQH4AQuIAgGoAgO4AtuzvrEGwAIB0gIkZGU3OGY2YmUtZDZiMC00NGVkLThlNGQtZWVmMzc2NGM2MWFm2AIG4AIB&sid=7497f8875027f2a2c7a1e12f821f516c&aid=304142&ss=Cabo+Frio&ssne=Cabo+Frio&ssne_untouched=Cabo+Frio&lang=pt-br&src=searchresults&dest_id=-632162&dest_type=city&checkin=2024-05-27&checkout=2024-05-31&group_adults=1&no_rooms=1&group_children=0&nflt=hotelfacility%3D5')\n",
    "nome_9 = \"servico_de_quarto\"\n",
    "\n",
    "url_10 = ('https://www.booking.com/searchresults.pt-br.html?label=gen173nr-1FCAEoggI46AdIM1gEaCCIAQGYAS24ARnIAQzYAQHoAQH4AQuIAgGoAgO4AtuzvrEGwAIB0gIkZGU3OGY2YmUtZDZiMC00NGVkLThlNGQtZWVmMzc2NGM2MWFm2AIG4AIB&sid=7497f8875027f2a2c7a1e12f821f516c&aid=304142&ss=Cabo+Frio&ssne=Cabo+Frio&ssne_untouched=Cabo+Frio&lang=pt-br&src=searchresults&dest_id=-632162&dest_type=city&checkin=2024-05-27&checkout=2024-05-31&group_adults=1&no_rooms=1&group_children=0&nflt=hotelfacility%3D185')\n",
    "nome_10 = \"cadeira_de_rodas\"\n",
    "\n",
    "url_11 = ('https://www.booking.com/searchresults.pt-br.html?label=gen173nr-1FCAEoggI46AdIM1gEaCCIAQGYAS24ARnIAQzYAQHoAQH4AQuIAgGoAgO4AtuzvrEGwAIB0gIkZGU3OGY2YmUtZDZiMC00NGVkLThlNGQtZWVmMzc2NGM2MWFm2AIG4AIB&sid=7497f8875027f2a2c7a1e12f821f516c&aid=304142&ss=Cabo+Frio&ssne=Cabo+Frio&ssne_untouched=Cabo+Frio&lang=pt-br&src=searchresults&dest_id=-632162&dest_type=city&checkin=2024-05-27&checkout=2024-05-31&group_adults=1&no_rooms=1&group_children=0&nflt=hotelfacility%3D54')\n",
    "nome_11 = \"spa\"\n",
    "\n",
    "url_12 = ('https://www.booking.com/searchresults.pt-br.html?label=gen173nr-1FCAEoggI46AdIM1gEaCCIAQGYAS24ARnIAQzYAQHoAQH4AQuIAgGoAgO4AtuzvrEGwAIB0gIkZGU3OGY2YmUtZDZiMC00NGVkLThlNGQtZWVmMzc2NGM2MWFm2AIG4AIB&sid=7497f8875027f2a2c7a1e12f821f516c&aid=304142&ss=Cabo+Frio&ssne=Cabo+Frio&ssne_untouched=Cabo+Frio&lang=pt-br&src=searchresults&dest_id=-632162&dest_type=city&checkin=2024-05-27&checkout=2024-05-31&group_adults=1&no_rooms=1&group_children=0&nflt=hotelfacility%3D182')\n",
    "nome_12 = \"recarga_veiculo_eletrico\"\n",
    "\n",
    "url_13 = ('https://www.booking.com/searchresults.pt-br.html?label=gen173nr-1FCAEoggI46AdIM1gEaCCIAQGYAS24ARnIAQzYAQHoAQH4AQuIAgGoAgO4AtuzvrEGwAIB0gIkZGU3OGY2YmUtZDZiMC00NGVkLThlNGQtZWVmMzc2NGM2MWFm2AIG4AIB&sid=7497f8875027f2a2c7a1e12f821f516c&aid=304142&ss=Cabo+Frio&ssne=Cabo+Frio&ssne_untouched=Cabo+Frio&lang=pt-br&src=searchresults&dest_id=-632162&dest_type=city&checkin=2024-05-27&checkout=2024-05-31&group_adults=1&no_rooms=1&group_children=0&nflt=roomfacility%3D5')\n",
    "nome_13 = \"banheira\"\n",
    "\n",
    "url_14 = ('https://www.booking.com/searchresults.pt-br.html?label=gen173nr-1FCAEoggI46AdIM1gEaCCIAQGYAS24ARnIAQzYAQHoAQH4AQuIAgGoAgO4AtuzvrEGwAIB0gIkZGU3OGY2YmUtZDZiMC00NGVkLThlNGQtZWVmMzc2NGM2MWFm2AIG4AIB&sid=7497f8875027f2a2c7a1e12f821f516c&aid=304142&ss=Cabo+Frio&ssne=Cabo+Frio&ssne_untouched=Cabo+Frio&lang=pt-br&src=searchresults&dest_id=-632162&dest_type=city&checkin=2024-05-27&checkout=2024-05-31&group_adults=1&no_rooms=1&group_children=0&nflt=roomfacility%3D108')\n",
    "nome_14 = \"vista_para_o_mar\"\n",
    "\n",
    "url_15 = ('https://www.booking.com/searchresults.pt-br.html?label=gen173nr-1FCAEoggI46AdIM1gEaCCIAQGYAS24ARnIAQzYAQHoAQH4AQuIAgGoAgO4AtuzvrEGwAIB0gIkZGU3OGY2YmUtZDZiMC00NGVkLThlNGQtZWVmMzc2NGM2MWFm2AIG4AIB&sid=7497f8875027f2a2c7a1e12f821f516c&aid=304142&ss=Cabo+Frio&ssne=Cabo+Frio&ssne_untouched=Cabo+Frio&lang=pt-br&src=searchresults&dest_id=-632162&dest_type=city&checkin=2024-05-27&checkout=2024-05-31&group_adults=1&no_rooms=1&group_children=0&nflt=roomfacility%3D20')\n",
    "nome_15 = \"hidromassagem\"\n",
    "\n",
    "url_16 = ('https://www.booking.com/searchresults.pt-br.html?label=gen173nr-1FCAEoggI46AdIM1gEaCCIAQGYAS24ARnIAQzYAQHoAQH4AQuIAgGoAgO4AtuzvrEGwAIB0gIkZGU3OGY2YmUtZDZiMC00NGVkLThlNGQtZWVmMzc2NGM2MWFm2AIG4AIB&sid=7497f8875027f2a2c7a1e12f821f516c&aid=304142&ss=Cabo+Frio&ssne=Cabo+Frio&ssne_untouched=Cabo+Frio&lang=pt-br&src=searchresults&dest_id=-632162&dest_type=city&checkin=2024-05-27&checkout=2024-05-31&group_adults=1&no_rooms=1&group_children=0&nflt=roomfacility%3D14')\n",
    "nome_16 = \"jacuzzi\"\n",
    "\n",
    "url_17 = ('https://www.booking.com/searchresults.pt-br.html?label=gen173nr-1FCAEoggI46AdIM1gEaCCIAQGYAS24ARnIAQzYAQHoAQH4AQuIAgGoAgO4AtuzvrEGwAIB0gIkZGU3OGY2YmUtZDZiMC00NGVkLThlNGQtZWVmMzc2NGM2MWFm2AIG4AIB&sid=7497f8875027f2a2c7a1e12f821f516c&aid=304142&ss=Cabo+Frio&ssne=Cabo+Frio&ssne_untouched=Cabo+Frio&lang=pt-br&src=searchresults&dest_id=-632162&dest_type=city&checkin=2024-05-27&checkout=2024-05-31&group_adults=1&no_rooms=1&group_children=0&nflt=popular_activities%3D302')\n",
    "nome_17 = \"praia\"\n",
    "\n",
    "url_18 = ('https://www.booking.com/searchresults.pt-br.html?label=gen173nr-1FCAEoggI46AdIM1gEaCCIAQGYAS24ARnIAQzYAQHoAQH4AQuIAgGoAgO4AtuzvrEGwAIB0gIkZGU3OGY2YmUtZDZiMC00NGVkLThlNGQtZWVmMzc2NGM2MWFm2AIG4AIB&sid=7497f8875027f2a2c7a1e12f821f516c&aid=304142&ss=Cabo+Frio&ssne=Cabo+Frio&ssne_untouched=Cabo+Frio&lang=pt-br&dest_id=-632162&dest_type=city&checkin=2024-05-27&checkout=2024-05-31&group_adults=1&no_rooms=1&group_children=0&nflt=popular_activities%3D70')\n",
    "nome_18 = \"trilha_a_pe\"\n",
    "\n",
    "url_19 = ('https://www.booking.com/searchresults.pt-br.html?label=gen173nr-1FCAEoggI46AdIM1gEaCCIAQGYAS24ARnIAQzYAQHoAQH4AQuIAgGoAgO4AtuzvrEGwAIB0gIkZGU3OGY2YmUtZDZiMC00NGVkLThlNGQtZWVmMzc2NGM2MWFm2AIG4AIB&sid=7497f8875027f2a2c7a1e12f821f516c&aid=304142&ss=Cabo+Frio&ssne=Cabo+Frio&ssne_untouched=Cabo+Frio&lang=pt-br&dest_id=-632162&dest_type=city&checkin=2024-05-27&checkout=2024-05-31&group_adults=1&no_rooms=1&group_children=0&nflt=popular_activities%3D82')\n",
    "nome_19 = \"merguho\"\n",
    "\n",
    "url_20 = ('https://www.booking.com/searchresults.pt-br.html?label=gen173nr-1FCAEoggI46AdIM1gEaCCIAQGYAS24ARnIAQzYAQHoAQH4AQuIAgGoAgO4AtuzvrEGwAIB0gIkZGU3OGY2YmUtZDZiMC00NGVkLThlNGQtZWVmMzc2NGM2MWFm2AIG4AIB&sid=7497f8875027f2a2c7a1e12f821f516c&aid=304142&ss=Cabo+Frio&ssne=Cabo+Frio&ssne_untouched=Cabo+Frio&lang=pt-br&dest_id=-632162&dest_type=city&checkin=2024-05-27&checkout=2024-05-31&group_adults=1&no_rooms=1&group_children=0&nflt=popular_activities%3D10')\n",
    "nome_20 = \"sauna\"\n",
    "\n",
    "url_21 = ('https://www.booking.com/searchresults.pt-br.html?label=gen173nr-1FCAEoggI46AdIM1gEaCCIAQGYAS24ARnIAQzYAQHoAQH4AQuIAgGoAgO4AtuzvrEGwAIB0gIkZGU3OGY2YmUtZDZiMC00NGVkLThlNGQtZWVmMzc2NGM2MWFm2AIG4AIB&sid=7497f8875027f2a2c7a1e12f821f516c&aid=304142&ss=Cabo+Frio&ssne=Cabo+Frio&ssne_untouched=Cabo+Frio&lang=pt-br&dest_id=-632162&dest_type=city&checkin=2024-05-27&checkout=2024-05-31&group_adults=1&no_rooms=1&group_children=0&nflt=popular_activities%3D19')\n",
    "nome_21 = \"pesca\"\n",
    "\n",
    "urls = [url_1, url_2, url_3, url_4, url_5, url_6, url_7, url_8, url_9, url_10, url_11, url_12, url_13, url_14, url_15, url_16, url_17, url_18, url_19, url_20, url_21]\n",
    "nomes = [nome_1, nome_2, nome_3, nome_4, nome_5, nome_6, nome_7, nome_8, nome_9, nome_10, nome_11, nome_12, nome_13, nome_14, nome_15, nome_16, nome_17, nome_18, nome_19, nome_20, nome_21]"
   ]
  },
  {
   "cell_type": "code",
   "execution_count": 61,
   "metadata": {},
   "outputs": [
    {
     "name": "stdout",
     "output_type": "stream",
     "text": [
      "Cafe_da_manha_incluido\n",
      "Quantidade: 25\n",
      "ar_condicionado\n",
      "Quantidade: 25\n",
      "piscina\n",
      "Quantidade: 25\n",
      "wifi_gratuito\n",
      "Quantidade: 25\n",
      "estacionamento\n",
      "Quantidade: 25\n",
      "pets\n",
      "Quantidade: 25\n",
      "com_rstaurante\n",
      "Quantidade: 25\n",
      "academia\n",
      "Quantidade: 25\n",
      "servico_de_quarto\n",
      "Quantidade: 25\n",
      "cadeira_de_rodas\n",
      "Quantidade: 25\n",
      "spa\n",
      "Quantidade: 25\n",
      "recarga_veiculo_eletrico\n",
      "Quantidade: 12\n",
      "recarga_veiculo_eletrico\n",
      "Quantidade: 25\n",
      "banheira\n",
      "Quantidade: 25\n",
      "vista_para_o_mar\n",
      "Quantidade: 25\n",
      "hidromassagem\n",
      "Quantidade: 25\n",
      "jacuzzi\n",
      "Quantidade: 25\n",
      "praia\n",
      "Quantidade: 25\n",
      "trilha_a_pe\n",
      "Quantidade: 25\n",
      "merguho\n",
      "Quantidade: 25\n",
      "sauna\n",
      "Quantidade: 25\n",
      "pesca\n"
     ]
    },
    {
     "ename": "IndexError",
     "evalue": "list index out of range",
     "output_type": "error",
     "traceback": [
      "\u001b[0;31m---------------------------------------------------------------------------\u001b[0m",
      "\u001b[0;31mIndexError\u001b[0m                                Traceback (most recent call last)",
      "Cell \u001b[0;32mIn[61], line 3\u001b[0m\n\u001b[1;32m      1\u001b[0m \u001b[38;5;28;01mfor\u001b[39;00m i \u001b[38;5;129;01min\u001b[39;00m \u001b[38;5;28mrange\u001b[39m(\u001b[38;5;241m22\u001b[39m):\n\u001b[1;32m      2\u001b[0m     \u001b[38;5;28mprint\u001b[39m(nomes[i])\n\u001b[0;32m----> 3\u001b[0m     soup \u001b[38;5;241m=\u001b[39m get_page_contents(\u001b[43murls\u001b[49m\u001b[43m[\u001b[49m\u001b[43mi\u001b[49m\u001b[43m]\u001b[49m)\n\u001b[1;32m      4\u001b[0m     lista \u001b[38;5;241m=\u001b[39m get_datdos(soup)\n\u001b[1;32m      5\u001b[0m     gerar_csv(lista, nomes[i])\n",
      "\u001b[0;31mIndexError\u001b[0m: list index out of range"
     ]
    }
   ],
   "source": [
    "for i in range(22):\n",
    "    print(nomes[i])\n",
    "    soup = get_page_contents(urls[i])\n",
    "    lista = get_datdos(soup)\n",
    "    gerar_csv(lista, nomes[i])\n",
    "    time.sleep(5)"
   ]
  },
  {
   "cell_type": "code",
   "execution_count": 65,
   "metadata": {},
   "outputs": [
    {
     "name": "stdout",
     "output_type": "stream",
     "text": [
      "Quantidade: 25\n"
     ]
    }
   ],
   "source": [
    "soup = get_page_contents(url_21)\n",
    "lista = get_datdos(soup)\n",
    "gerar_csv(lista, nome_21)"
   ]
  }
 ],
 "metadata": {
  "kernelspec": {
   "display_name": "Python 3",
   "language": "python",
   "name": "python3"
  },
  "language_info": {
   "codemirror_mode": {
    "name": "ipython",
    "version": 3
   },
   "file_extension": ".py",
   "mimetype": "text/x-python",
   "name": "python",
   "nbconvert_exporter": "python",
   "pygments_lexer": "ipython3",
   "version": "3.10.12"
  }
 },
 "nbformat": 4,
 "nbformat_minor": 2
}
