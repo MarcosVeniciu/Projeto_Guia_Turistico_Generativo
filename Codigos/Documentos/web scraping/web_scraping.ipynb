{
 "cells": [
  {
   "cell_type": "code",
   "execution_count": null,
   "metadata": {},
   "outputs": [],
   "source": [
    "# Link principal\n",
    "# https://www.booking.com/searchresults.pt-br.html?label=gen173nr-1FCAEoggI46AdIM1gEaCCIAQGYAS24ARnIAQzYAQHoAQH4AQuIAgGoAgO4AtuzvrEGwAIB0gIkZGU3OGY2YmUtZDZiMC00NGVkLThlNGQtZWVmMzc2NGM2MWFm2AIG4AIB&sid=7497f8875027f2a2c7a1e12f821f516c&aid=304142&ss=Cabo+Frio&ssne=Cabo+Frio&ssne_untouched=Cabo+Frio&lang=pt-br&dest_id=-632162&dest_type=city&checkin=2024-05-27&checkout=2024-05-31&group_adults=1&no_rooms=1&group_children=0"
   ]
  },
  {
   "cell_type": "code",
   "execution_count": 2,
   "metadata": {
    "metadata": {}
   },
   "outputs": [],
   "source": [
    "import pandas as pd\n",
    "import matplotlib as plt\n",
    "\n",
    "import requests\n",
    "from bs4 import BeautifulSoup\n",
    "import pandas as pd\n",
    "import time"
   ]
  },
  {
   "cell_type": "markdown",
   "metadata": {},
   "source": [
    "# Coleta de Dados"
   ]
  },
  {
   "cell_type": "code",
   "execution_count": 3,
   "metadata": {
    "metadata": {}
   },
   "outputs": [],
   "source": [
    "user_agent = ({'User-Agent':\n",
    "\t\t\t'Mozilla/5.0 (Windows NT 10.0; Win64; x64) \\\n",
    "\t\t\tAppleWebKit/537.36 (KHTML, like Gecko) \\\n",
    "\t\t\tChrome/90.0.4430.212 Safari/537.36',\n",
    "\t\t\t'Accept-Language': 'en-US, en;q=0.5'})\n",
    "\n",
    "def get_page_contents(url):\n",
    "    page = requests.get(url, headers = user_agent)        \n",
    "    return BeautifulSoup(page.text, 'html.parser')"
   ]
  },
  {
   "cell_type": "code",
   "execution_count": 5,
   "metadata": {
    "metadata": {}
   },
   "outputs": [],
   "source": [
    "def get_datdos(soup):\n",
    "    hotels = []\n",
    "    for name in soup.findAll('div',{'class':'f6431b446c a15b38c233'}): \n",
    "        hotels.append(name.text.strip())\n",
    "\n",
    "    print(\"     Quantidade: \" + str(len(hotels)))\n",
    "    \n",
    "    return hotels"
   ]
  },
  {
   "cell_type": "code",
   "execution_count": 6,
   "metadata": {
    "metadata": {}
   },
   "outputs": [],
   "source": [
    "def gerar_csv(lista, nome_arquivo):\n",
    "    dict = {'Hotel Names':lista,}\n",
    "    hoteis = pd.DataFrame.from_dict(dict)\n",
    "    hoteis.to_csv((\"csvs/\" + nome_arquivo + '.csv'), index=False)"
   ]
  },
  {
   "cell_type": "code",
   "execution_count": 7,
   "metadata": {
    "metadata": {}
   },
   "outputs": [],
   "source": [
    "# Lista de URLs\n",
    "url_1 = ('https://www.booking.com/searchresults.pt-br.html?label=gen173nr-1FCAEoggI46AdIM1gEaCCIAQGYAS24ARnIAQzYAQHoAQH4AQuIAgGoAgO4AtuzvrEGwAIB0gIkZGU3OGY2YmUtZDZiMC00NGVkLThlNGQtZWVmMzc2NGM2MWFm2AIG4AIB&sid=7497f8875027f2a2c7a1e12f821f516c&aid=304142&ss=Cabo+Frio&ssne=Cabo+Frio&ssne_untouched=Cabo+Frio&lang=pt-br&src=searchresults&dest_id=-632162&dest_type=city&checkin=2024-05-27&checkout=2024-05-31&group_adults=1&no_rooms=1&group_children=0&nflt=mealplan%3D1')\n",
    "nome_1 = \"Cafe_da_manha_incluido\"\n",
    "\n",
    "url_2 = ('https://www.booking.com/searchresults.pt-br.html?label=gen173nr-1FCAEoggI46AdIM1gEaCCIAQGYAS24ARnIAQzYAQHoAQH4AQuIAgGoAgO4AtuzvrEGwAIB0gIkZGU3OGY2YmUtZDZiMC00NGVkLThlNGQtZWVmMzc2NGM2MWFm2AIG4AIB&sid=7497f8875027f2a2c7a1e12f821f516c&aid=304142&ss=Cabo+Frio&ssne=Cabo+Frio&ssne_untouched=Cabo+Frio&lang=pt-br&src=searchresults&dest_id=-632162&dest_type=city&checkin=2024-05-27&checkout=2024-05-31&group_adults=1&no_rooms=1&group_children=0&nflt=roomfacility%3D11')\n",
    "nome_2 = \"ar_condicionado\"\n",
    "\n",
    "url_3 = ('https://www.booking.com/searchresults.pt-br.html?label=gen173nr-1FCAEoggI46AdIM1gEaCCIAQGYAS24ARnIAQzYAQHoAQH4AQuIAgGoAgO4AtuzvrEGwAIB0gIkZGU3OGY2YmUtZDZiMC00NGVkLThlNGQtZWVmMzc2NGM2MWFm2AIG4AIB&sid=7497f8875027f2a2c7a1e12f821f516c&aid=304142&ss=Cabo+Frio&ssne=Cabo+Frio&ssne_untouched=Cabo+Frio&lang=pt-br&src=searchresults&dest_id=-632162&dest_type=city&checkin=2024-05-27&checkout=2024-05-31&group_adults=1&no_rooms=1&group_children=0&nflt=hotelfacility%3D433')\n",
    "nome_3 = \"piscina\"\n",
    "\n",
    "url_4 = ('https://www.booking.com/searchresults.pt-br.html?label=gen173nr-1FCAEoggI46AdIM1gEaCCIAQGYAS24ARnIAQzYAQHoAQH4AQuIAgGoAgO4AtuzvrEGwAIB0gIkZGU3OGY2YmUtZDZiMC00NGVkLThlNGQtZWVmMzc2NGM2MWFm2AIG4AIB&sid=7497f8875027f2a2c7a1e12f821f516c&aid=304142&ss=Cabo+Frio&ssne=Cabo+Frio&ssne_untouched=Cabo+Frio&lang=pt-br&src=searchresults&dest_id=-632162&dest_type=city&checkin=2024-05-27&checkout=2024-05-31&group_adults=1&no_rooms=1&group_children=0&nflt=hotelfacility%3D107')\n",
    "nome_4 = \"wifi_gratuito\"\n",
    "\n",
    "url_5 = ('https://www.booking.com/searchresults.pt-br.html?label=gen173nr-1FCAEoggI46AdIM1gEaCCIAQGYAS24ARnIAQzYAQHoAQH4AQuIAgGoAgO4AtuzvrEGwAIB0gIkZGU3OGY2YmUtZDZiMC00NGVkLThlNGQtZWVmMzc2NGM2MWFm2AIG4AIB&sid=7497f8875027f2a2c7a1e12f821f516c&aid=304142&ss=Cabo+Frio&ssne=Cabo+Frio&ssne_untouched=Cabo+Frio&lang=pt-br&src=searchresults&dest_id=-632162&dest_type=city&checkin=2024-05-27&checkout=2024-05-31&group_adults=1&no_rooms=1&group_children=0&nflt=hotelfacility%3D2')\n",
    "nome_5 = \"estacionamento\"\n",
    "\n",
    "url_6 = ('https://www.booking.com/searchresults.pt-br.html?label=gen173nr-1FCAEoggI46AdIM1gEaCCIAQGYAS24ARnIAQzYAQHoAQH4AQuIAgGoAgO4AtuzvrEGwAIB0gIkZGU3OGY2YmUtZDZiMC00NGVkLThlNGQtZWVmMzc2NGM2MWFm2AIG4AIB&sid=7497f8875027f2a2c7a1e12f821f516c&aid=304142&ss=Cabo+Frio&ssne=Cabo+Frio&ssne_untouched=Cabo+Frio&lang=pt-br&src=searchresults&dest_id=-632162&dest_type=city&checkin=2024-05-27&checkout=2024-05-31&group_adults=1&no_rooms=1&group_children=0&nflt=hotelfacility%3D4')\n",
    "nome_6 = \"pets\"\n",
    "\n",
    "url_7 = ('https://www.booking.com/searchresults.pt-br.html?label=gen173nr-1FCAEoggI46AdIM1gEaCCIAQGYAS24ARnIAQzYAQHoAQH4AQuIAgGoAgO4AtuzvrEGwAIB0gIkZGU3OGY2YmUtZDZiMC00NGVkLThlNGQtZWVmMzc2NGM2MWFm2AIG4AIB&sid=7497f8875027f2a2c7a1e12f821f516c&aid=304142&ss=Cabo+Frio&ssne=Cabo+Frio&ssne_untouched=Cabo+Frio&lang=pt-br&src=searchresults&dest_id=-632162&dest_type=city&checkin=2024-05-27&checkout=2024-05-31&group_adults=1&no_rooms=1&group_children=0&nflt=hotelfacility%3D3')\n",
    "nome_7 = \"com_rstaurante\"\n",
    "\n",
    "\n",
    "url_8 = ('https://www.booking.com/searchresults.pt-br.html?label=gen173nr-1FCAEoggI46AdIM1gEaCCIAQGYAS24ARnIAQzYAQHoAQH4AQuIAgGoAgO4AtuzvrEGwAIB0gIkZGU3OGY2YmUtZDZiMC00NGVkLThlNGQtZWVmMzc2NGM2MWFm2AIG4AIB&sid=7497f8875027f2a2c7a1e12f821f516c&aid=304142&ss=Cabo+Frio&ssne=Cabo+Frio&ssne_untouched=Cabo+Frio&lang=pt-br&src=searchresults&dest_id=-632162&dest_type=city&checkin=2024-05-27&checkout=2024-05-31&group_adults=1&no_rooms=1&group_children=0&nflt=hotelfacility%3D11')\n",
    "nome_8 = \"academia\"\n",
    "\n",
    "\n",
    "url_9 = ('https://www.booking.com/searchresults.pt-br.html?label=gen173nr-1FCAEoggI46AdIM1gEaCCIAQGYAS24ARnIAQzYAQHoAQH4AQuIAgGoAgO4AtuzvrEGwAIB0gIkZGU3OGY2YmUtZDZiMC00NGVkLThlNGQtZWVmMzc2NGM2MWFm2AIG4AIB&sid=7497f8875027f2a2c7a1e12f821f516c&aid=304142&ss=Cabo+Frio&ssne=Cabo+Frio&ssne_untouched=Cabo+Frio&lang=pt-br&src=searchresults&dest_id=-632162&dest_type=city&checkin=2024-05-27&checkout=2024-05-31&group_adults=1&no_rooms=1&group_children=0&nflt=hotelfacility%3D5')\n",
    "nome_9 = \"servico_de_quarto\"\n",
    "\n",
    "url_10 = ('https://www.booking.com/searchresults.pt-br.html?label=gen173nr-1FCAEoggI46AdIM1gEaCCIAQGYAS24ARnIAQzYAQHoAQH4AQuIAgGoAgO4AtuzvrEGwAIB0gIkZGU3OGY2YmUtZDZiMC00NGVkLThlNGQtZWVmMzc2NGM2MWFm2AIG4AIB&sid=7497f8875027f2a2c7a1e12f821f516c&aid=304142&ss=Cabo+Frio&ssne=Cabo+Frio&ssne_untouched=Cabo+Frio&lang=pt-br&src=searchresults&dest_id=-632162&dest_type=city&checkin=2024-05-27&checkout=2024-05-31&group_adults=1&no_rooms=1&group_children=0&nflt=hotelfacility%3D185')\n",
    "nome_10 = \"cadeira_de_rodas\"\n",
    "\n",
    "url_11 = ('https://www.booking.com/searchresults.pt-br.html?label=gen173nr-1FCAEoggI46AdIM1gEaCCIAQGYAS24ARnIAQzYAQHoAQH4AQuIAgGoAgO4AtuzvrEGwAIB0gIkZGU3OGY2YmUtZDZiMC00NGVkLThlNGQtZWVmMzc2NGM2MWFm2AIG4AIB&sid=7497f8875027f2a2c7a1e12f821f516c&aid=304142&ss=Cabo+Frio&ssne=Cabo+Frio&ssne_untouched=Cabo+Frio&lang=pt-br&src=searchresults&dest_id=-632162&dest_type=city&checkin=2024-05-27&checkout=2024-05-31&group_adults=1&no_rooms=1&group_children=0&nflt=hotelfacility%3D54')\n",
    "nome_11 = \"spa\"\n",
    "\n",
    "url_12 = ('https://www.booking.com/searchresults.pt-br.html?label=gen173nr-1FCAEoggI46AdIM1gEaCCIAQGYAS24ARnIAQzYAQHoAQH4AQuIAgGoAgO4AtuzvrEGwAIB0gIkZGU3OGY2YmUtZDZiMC00NGVkLThlNGQtZWVmMzc2NGM2MWFm2AIG4AIB&sid=7497f8875027f2a2c7a1e12f821f516c&aid=304142&ss=Cabo+Frio&ssne=Cabo+Frio&ssne_untouched=Cabo+Frio&lang=pt-br&src=searchresults&dest_id=-632162&dest_type=city&checkin=2024-05-27&checkout=2024-05-31&group_adults=1&no_rooms=1&group_children=0&nflt=hotelfacility%3D182')\n",
    "nome_12 = \"recarga_veiculo_eletrico\"\n",
    "\n",
    "url_13 = ('https://www.booking.com/searchresults.pt-br.html?label=gen173nr-1FCAEoggI46AdIM1gEaCCIAQGYAS24ARnIAQzYAQHoAQH4AQuIAgGoAgO4AtuzvrEGwAIB0gIkZGU3OGY2YmUtZDZiMC00NGVkLThlNGQtZWVmMzc2NGM2MWFm2AIG4AIB&sid=7497f8875027f2a2c7a1e12f821f516c&aid=304142&ss=Cabo+Frio&ssne=Cabo+Frio&ssne_untouched=Cabo+Frio&lang=pt-br&src=searchresults&dest_id=-632162&dest_type=city&checkin=2024-05-27&checkout=2024-05-31&group_adults=1&no_rooms=1&group_children=0&nflt=roomfacility%3D5')\n",
    "nome_13 = \"banheira\"\n",
    "\n",
    "url_14 = ('https://www.booking.com/searchresults.pt-br.html?label=gen173nr-1FCAEoggI46AdIM1gEaCCIAQGYAS24ARnIAQzYAQHoAQH4AQuIAgGoAgO4AtuzvrEGwAIB0gIkZGU3OGY2YmUtZDZiMC00NGVkLThlNGQtZWVmMzc2NGM2MWFm2AIG4AIB&sid=7497f8875027f2a2c7a1e12f821f516c&aid=304142&ss=Cabo+Frio&ssne=Cabo+Frio&ssne_untouched=Cabo+Frio&lang=pt-br&src=searchresults&dest_id=-632162&dest_type=city&checkin=2024-05-27&checkout=2024-05-31&group_adults=1&no_rooms=1&group_children=0&nflt=roomfacility%3D108')\n",
    "nome_14 = \"vista_para_o_mar\"\n",
    "\n",
    "url_15 = ('https://www.booking.com/searchresults.pt-br.html?label=gen173nr-1FCAEoggI46AdIM1gEaCCIAQGYAS24ARnIAQzYAQHoAQH4AQuIAgGoAgO4AtuzvrEGwAIB0gIkZGU3OGY2YmUtZDZiMC00NGVkLThlNGQtZWVmMzc2NGM2MWFm2AIG4AIB&sid=7497f8875027f2a2c7a1e12f821f516c&aid=304142&ss=Cabo+Frio&ssne=Cabo+Frio&ssne_untouched=Cabo+Frio&lang=pt-br&src=searchresults&dest_id=-632162&dest_type=city&checkin=2024-05-27&checkout=2024-05-31&group_adults=1&no_rooms=1&group_children=0&nflt=roomfacility%3D20')\n",
    "nome_15 = \"hidromassagem\"\n",
    "\n",
    "url_16 = ('https://www.booking.com/searchresults.pt-br.html?label=gen173nr-1FCAEoggI46AdIM1gEaCCIAQGYAS24ARnIAQzYAQHoAQH4AQuIAgGoAgO4AtuzvrEGwAIB0gIkZGU3OGY2YmUtZDZiMC00NGVkLThlNGQtZWVmMzc2NGM2MWFm2AIG4AIB&sid=7497f8875027f2a2c7a1e12f821f516c&aid=304142&ss=Cabo+Frio&ssne=Cabo+Frio&ssne_untouched=Cabo+Frio&lang=pt-br&src=searchresults&dest_id=-632162&dest_type=city&checkin=2024-05-27&checkout=2024-05-31&group_adults=1&no_rooms=1&group_children=0&nflt=roomfacility%3D14')\n",
    "nome_16 = \"jacuzzi\"\n",
    "\n",
    "url_17 = ('https://www.booking.com/searchresults.pt-br.html?label=gen173nr-1FCAEoggI46AdIM1gEaCCIAQGYAS24ARnIAQzYAQHoAQH4AQuIAgGoAgO4AtuzvrEGwAIB0gIkZGU3OGY2YmUtZDZiMC00NGVkLThlNGQtZWVmMzc2NGM2MWFm2AIG4AIB&sid=7497f8875027f2a2c7a1e12f821f516c&aid=304142&ss=Cabo+Frio&ssne=Cabo+Frio&ssne_untouched=Cabo+Frio&lang=pt-br&src=searchresults&dest_id=-632162&dest_type=city&checkin=2024-05-27&checkout=2024-05-31&group_adults=1&no_rooms=1&group_children=0&nflt=popular_activities%3D302')\n",
    "nome_17 = \"praia\"\n",
    "\n",
    "url_18 = ('https://www.booking.com/searchresults.pt-br.html?label=gen173nr-1FCAEoggI46AdIM1gEaCCIAQGYAS24ARnIAQzYAQHoAQH4AQuIAgGoAgO4AtuzvrEGwAIB0gIkZGU3OGY2YmUtZDZiMC00NGVkLThlNGQtZWVmMzc2NGM2MWFm2AIG4AIB&sid=7497f8875027f2a2c7a1e12f821f516c&aid=304142&ss=Cabo+Frio&ssne=Cabo+Frio&ssne_untouched=Cabo+Frio&lang=pt-br&dest_id=-632162&dest_type=city&checkin=2024-05-27&checkout=2024-05-31&group_adults=1&no_rooms=1&group_children=0&nflt=popular_activities%3D70')\n",
    "nome_18 = \"trilha_a_pe\"\n",
    "\n",
    "url_19 = ('https://www.booking.com/searchresults.pt-br.html?label=gen173nr-1FCAEoggI46AdIM1gEaCCIAQGYAS24ARnIAQzYAQHoAQH4AQuIAgGoAgO4AtuzvrEGwAIB0gIkZGU3OGY2YmUtZDZiMC00NGVkLThlNGQtZWVmMzc2NGM2MWFm2AIG4AIB&sid=7497f8875027f2a2c7a1e12f821f516c&aid=304142&ss=Cabo+Frio&ssne=Cabo+Frio&ssne_untouched=Cabo+Frio&lang=pt-br&dest_id=-632162&dest_type=city&checkin=2024-05-27&checkout=2024-05-31&group_adults=1&no_rooms=1&group_children=0&nflt=popular_activities%3D82')\n",
    "nome_19 = \"merguho\"\n",
    "\n",
    "url_20 = ('https://www.booking.com/searchresults.pt-br.html?label=gen173nr-1FCAEoggI46AdIM1gEaCCIAQGYAS24ARnIAQzYAQHoAQH4AQuIAgGoAgO4AtuzvrEGwAIB0gIkZGU3OGY2YmUtZDZiMC00NGVkLThlNGQtZWVmMzc2NGM2MWFm2AIG4AIB&sid=7497f8875027f2a2c7a1e12f821f516c&aid=304142&ss=Cabo+Frio&ssne=Cabo+Frio&ssne_untouched=Cabo+Frio&lang=pt-br&dest_id=-632162&dest_type=city&checkin=2024-05-27&checkout=2024-05-31&group_adults=1&no_rooms=1&group_children=0&nflt=popular_activities%3D10')\n",
    "nome_20 = \"sauna\"\n",
    "\n",
    "url_21 = ('https://www.booking.com/searchresults.pt-br.html?label=gen173nr-1FCAEoggI46AdIM1gEaCCIAQGYAS24ARnIAQzYAQHoAQH4AQuIAgGoAgO4AtuzvrEGwAIB0gIkZGU3OGY2YmUtZDZiMC00NGVkLThlNGQtZWVmMzc2NGM2MWFm2AIG4AIB&sid=7497f8875027f2a2c7a1e12f821f516c&aid=304142&ss=Cabo+Frio&ssne=Cabo+Frio&ssne_untouched=Cabo+Frio&lang=pt-br&dest_id=-632162&dest_type=city&checkin=2024-05-27&checkout=2024-05-31&group_adults=1&no_rooms=1&group_children=0&nflt=popular_activities%3D19')\n",
    "nome_21 = \"pesca\"\n",
    "\n",
    "urls = [url_1, url_2, url_3, url_4, url_5, url_6, url_7, url_8, url_9, url_10, url_11, url_12, url_13, url_14, url_15, url_16, url_17, url_18, url_19, url_20, url_21]\n",
    "nomes = [nome_1, nome_2, nome_3, nome_4, nome_5, nome_6, nome_7, nome_8, nome_9, nome_10, nome_11, nome_12, nome_13, nome_14, nome_15, nome_16, nome_17, nome_18, nome_19, nome_20, nome_21]"
   ]
  },
  {
   "cell_type": "code",
   "execution_count": 18,
   "metadata": {
    "metadata": {}
   },
   "outputs": [
    {
     "name": "stdout",
     "output_type": "stream",
     "text": [
      "\n",
      "1 - Cafe_da_manha_incluido\n",
      "     Quantidade: 25\n",
      "\n",
      "2 - ar_condicionado\n",
      "     Quantidade: 25\n",
      "\n",
      "3 - piscina\n",
      "     Quantidade: 25\n",
      "\n",
      "4 - wifi_gratuito\n",
      "     Quantidade: 25\n",
      "\n",
      "5 - estacionamento\n",
      "     Quantidade: 25\n",
      "\n",
      "6 - pets\n",
      "     Quantidade: 25\n",
      "\n",
      "7 - com_rstaurante\n",
      "     Quantidade: 25\n",
      "\n",
      "8 - academia\n",
      "     Quantidade: 25\n",
      "\n",
      "9 - servico_de_quarto\n",
      "     Quantidade: 25\n",
      "\n",
      "10 - cadeira_de_rodas\n",
      "     Quantidade: 25\n",
      "\n",
      "11 - spa\n",
      "     Quantidade: 25\n",
      "\n",
      "12 - recarga_veiculo_eletrico\n",
      "     Quantidade: 11\n",
      "\n",
      "13 - banheira\n",
      "     Quantidade: 25\n",
      "\n",
      "14 - vista_para_o_mar\n",
      "     Quantidade: 25\n",
      "\n",
      "15 - hidromassagem\n",
      "     Quantidade: 25\n",
      "\n",
      "16 - jacuzzi\n",
      "     Quantidade: 25\n",
      "\n",
      "17 - praia\n",
      "     Quantidade: 25\n",
      "\n",
      "18 - trilha_a_pe\n",
      "     Quantidade: 25\n",
      "\n",
      "19 - merguho\n",
      "     Quantidade: 25\n",
      "\n",
      "20 - sauna\n",
      "     Quantidade: 25\n",
      "\n",
      "21 - pesca\n",
      "     Quantidade: 25\n"
     ]
    }
   ],
   "source": [
    "for i in range(21):\n",
    "    print(\"\\n\" + str(i+1) + \" - \" + nomes[i])\n",
    "    soup = get_page_contents(urls[i])\n",
    "    lista = get_datdos(soup)\n",
    "    gerar_csv(lista, nomes[i])\n",
    "    time.sleep(5)"
   ]
  }
 ],
 "metadata": {
  "kernelspec": {
   "display_name": "Python 3",
   "language": "python",
   "name": "python3"
  },
  "language_info": {
   "codemirror_mode": {
    "name": "ipython",
    "version": 3
   },
   "file_extension": ".py",
   "mimetype": "text/x-python",
   "name": "python",
   "nbconvert_exporter": "python",
   "pygments_lexer": "ipython3",
   "version": "3.10.12"
  }
 },
 "nbformat": 4,
 "nbformat_minor": 2
}
