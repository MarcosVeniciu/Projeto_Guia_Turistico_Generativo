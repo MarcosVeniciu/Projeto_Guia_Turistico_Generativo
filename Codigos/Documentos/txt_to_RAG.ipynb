{
 "cells": [
  {
   "cell_type": "code",
   "execution_count": null,
   "metadata": {},
   "outputs": [],
   "source": [
    "!pip install langchain \n",
    "!pip install langchain_community"
   ]
  },
  {
   "cell_type": "code",
   "execution_count": 33,
   "metadata": {},
   "outputs": [],
   "source": [
    "from langchain.text_splitter import RecursiveCharacterTextSplitter\n",
    "from langchain.docstore.document import Document\n",
    "from datetime import datetime\n",
    "import unicodedata\n",
    "import pickle\n",
    "import os"
   ]
  },
  {
   "cell_type": "code",
   "execution_count": 34,
   "metadata": {},
   "outputs": [],
   "source": [
    "def limpar_texto(texto):\n",
    "  texto = texto.replace('[^\\w\\s]', '') # Remover caracteres especiais\n",
    "  texto = texto.lower() # Converter para minúsculas\n",
    "  return unicodedata.normalize('NFKD', texto).encode('ascii', errors='ignore').decode('utf-8') # Normalizes and removes accents from the text.\n",
    "\n",
    "def get_name(texto):\n",
    "  texto = texto[:len(texto)-8].replace(\"_\", \" \")\n",
    "  return limpar_texto(texto)\n",
    "\n",
    "# Adicionar nome do hotel aos chunks\n",
    "def adicionar_nome_hotel_ao_chunk(docs, hotel_name):\n",
    "    for doc in docs:\n",
    "        doc.page_content = f\"{hotel_name}, {doc.page_content}\"\n",
    "    return docs"
   ]
  },
  {
   "cell_type": "code",
   "execution_count": 35,
   "metadata": {},
   "outputs": [
    {
     "name": "stdout",
     "output_type": "stream",
     "text": [
      "Total de documentos carregados: 105\n"
     ]
    }
   ],
   "source": [
    "# Diretório contendo os arquivos TXT\n",
    "directory = 'TXT'\n",
    "\n",
    "# Lista para armazenar os documentos\n",
    "documents = []\n",
    "\n",
    "# Iterar sobre cada arquivo TXT no diretório\n",
    "for file_path in os.listdir(directory):\n",
    "  if file_path.endswith('.txt'):\n",
    "      with open(os.path.join(directory, file_path), 'r', encoding='utf-8') as file:\n",
    "          # Ler o conteúdo do arquivo\n",
    "          content = file.read()\n",
    "          content = limpar_texto(content)\n",
    "          hotel_name = get_name(file_path)\n",
    "          # Criar um documento para o conteúdo completo do arquivo\n",
    "          document = Document(content.strip(), metadata={\"hotel_name\": hotel_name})\n",
    "          documents.append(document)\n",
    "\n",
    "# Exibir o número total de documentos carregados\n",
    "print(f\"Total de documentos carregados: {len(documents)}\")"
   ]
  },
  {
   "cell_type": "code",
   "execution_count": 36,
   "metadata": {},
   "outputs": [
    {
     "name": "stdout",
     "output_type": "stream",
     "text": [
      "Total de Chunks: 8208\n"
     ]
    }
   ],
   "source": [
    "# Adaptar o text splitter\n",
    "text_splitter = RecursiveCharacterTextSplitter(chunk_size=100, chunk_overlap=50)\n",
    "docs = text_splitter.split_documents(documents)\n",
    "print(f\"Total de Chunks: {len(docs)}\")"
   ]
  },
  {
   "cell_type": "code",
   "execution_count": 37,
   "metadata": {},
   "outputs": [],
   "source": [
    "docs_with_hotel_name = []\n",
    "for document in documents:\n",
    "    hotel_name = document.metadata[\"hotel_name\"]\n",
    "    chunks = text_splitter.split_documents([document])\n",
    "    chunks_with_hotel_name = adicionar_nome_hotel_ao_chunk(chunks, hotel_name)\n",
    "    docs_with_hotel_name.extend(chunks_with_hotel_name)\n",
    "\n",
    "\n",
    "data_atual = datetime.now()\n",
    "data_formatada = data_atual.strftime(\"%d-%m-%Y\")\n",
    "save_name = f\"Chunks_RAG/documents_chunks_{data_formatada}.pkl\"\n",
    "# Salvar os documentos divididos com o nome do hotel\n",
    "with open(save_name, 'wb') as f:\n",
    "    \n",
    "    pickle.dump(docs_with_hotel_name, f)"
   ]
  }
 ],
 "metadata": {
  "kernelspec": {
   "display_name": "Python 3",
   "language": "python",
   "name": "python3"
  },
  "language_info": {
   "codemirror_mode": {
    "name": "ipython",
    "version": 3
   },
   "file_extension": ".py",
   "mimetype": "text/x-python",
   "name": "python",
   "nbconvert_exporter": "python",
   "pygments_lexer": "ipython3",
   "version": "3.10.12"
  }
 },
 "nbformat": 4,
 "nbformat_minor": 2
}
