{
 "cells": [
  {
   "cell_type": "code",
   "execution_count": 1,
   "metadata": {},
   "outputs": [
    {
     "name": "stdout",
     "output_type": "stream",
     "text": [
      "Defaulting to user installation because normal site-packages is not writeable\n",
      "Collecting googletrans==3.1.0a0\n",
      "  Downloading googletrans-3.1.0a0.tar.gz (19 kB)\n",
      "  Preparing metadata (setup.py) ... \u001b[?25ldone\n",
      "\u001b[?25hRequirement already satisfied: httpx==0.13.3 in /home/marcos/.local/lib/python3.10/site-packages (from googletrans==3.1.0a0) (0.13.3)\n",
      "Requirement already satisfied: chardet==3.* in /home/marcos/.local/lib/python3.10/site-packages (from httpx==0.13.3->googletrans==3.1.0a0) (3.0.4)\n",
      "Requirement already satisfied: hstspreload in /home/marcos/.local/lib/python3.10/site-packages (from httpx==0.13.3->googletrans==3.1.0a0) (2024.6.1)\n",
      "Requirement already satisfied: httpcore==0.9.* in /home/marcos/.local/lib/python3.10/site-packages (from httpx==0.13.3->googletrans==3.1.0a0) (0.9.1)\n",
      "Requirement already satisfied: certifi in /usr/lib/python3/dist-packages (from httpx==0.13.3->googletrans==3.1.0a0) (2020.6.20)\n",
      "Requirement already satisfied: idna==2.* in /home/marcos/.local/lib/python3.10/site-packages (from httpx==0.13.3->googletrans==3.1.0a0) (2.10)\n",
      "Requirement already satisfied: sniffio in /home/marcos/.local/lib/python3.10/site-packages (from httpx==0.13.3->googletrans==3.1.0a0) (1.3.1)\n",
      "Requirement already satisfied: rfc3986<2,>=1.3 in /home/marcos/.local/lib/python3.10/site-packages (from httpx==0.13.3->googletrans==3.1.0a0) (1.5.0)\n",
      "Requirement already satisfied: h11<0.10,>=0.8 in /home/marcos/.local/lib/python3.10/site-packages (from httpcore==0.9.*->httpx==0.13.3->googletrans==3.1.0a0) (0.9.0)\n",
      "Requirement already satisfied: h2==3.* in /home/marcos/.local/lib/python3.10/site-packages (from httpcore==0.9.*->httpx==0.13.3->googletrans==3.1.0a0) (3.2.0)\n",
      "Requirement already satisfied: hyperframe<6,>=5.2.0 in /home/marcos/.local/lib/python3.10/site-packages (from h2==3.*->httpcore==0.9.*->httpx==0.13.3->googletrans==3.1.0a0) (5.2.0)\n",
      "Requirement already satisfied: hpack<4,>=3.0 in /home/marcos/.local/lib/python3.10/site-packages (from h2==3.*->httpcore==0.9.*->httpx==0.13.3->googletrans==3.1.0a0) (3.0.0)\n",
      "Building wheels for collected packages: googletrans\n",
      "  Building wheel for googletrans (setup.py) ... \u001b[?25ldone\n",
      "\u001b[?25h  Created wheel for googletrans: filename=googletrans-3.1.0a0-py3-none-any.whl size=16367 sha256=39644bdde15951a1697a461dc4f12a127c98b9858f268cc88b8ea42c60ca5082\n",
      "  Stored in directory: /home/marcos/.cache/pip/wheels/50/5d/3c/8477d0af4ca2b8b1308812c09f1930863caeebc762fe265a95\n",
      "Successfully built googletrans\n",
      "Installing collected packages: googletrans\n",
      "  Attempting uninstall: googletrans\n",
      "    Found existing installation: googletrans 3.0.0\n",
      "    Uninstalling googletrans-3.0.0:\n",
      "      Successfully uninstalled googletrans-3.0.0\n",
      "Successfully installed googletrans-3.1.0a0\n"
     ]
    }
   ],
   "source": [
    "!pip install googletrans==3.1.0a0"
   ]
  },
  {
   "cell_type": "code",
   "execution_count": 2,
   "metadata": {},
   "outputs": [],
   "source": [
    "import pandas as pd\n",
    "from googletrans import Translator"
   ]
  },
  {
   "cell_type": "code",
   "execution_count": 3,
   "metadata": {},
   "outputs": [],
   "source": [
    "# Função para traduzir um texto de português para inglês\n",
    "def translate_text(text):\n",
    "    translator = Translator()\n",
    "    translation = translator.translate(text, src='pt', dest='en')\n",
    "    return translation.text"
   ]
  },
  {
   "cell_type": "code",
   "execution_count": 6,
   "metadata": {},
   "outputs": [
    {
     "name": "stdout",
     "output_type": "stream",
     "text": [
      "my name is Marcos\n"
     ]
    }
   ],
   "source": [
    "teste = translate_text(\"meu nome é marcos\")\n",
    "print(teste)"
   ]
  },
  {
   "cell_type": "code",
   "execution_count": 7,
   "metadata": {},
   "outputs": [
    {
     "name": "stdout",
     "output_type": "stream",
     "text": [
      "3183\n"
     ]
    }
   ],
   "source": [
    "# Carregar o arquivo CSV\n",
    "df = pd.read_csv('Dataset_Pergunta_resposta.csv')\n",
    "print(len(df))"
   ]
  },
  {
   "cell_type": "code",
   "execution_count": 10,
   "metadata": {},
   "outputs": [],
   "source": [
    "df_novo = pd.DataFrame(columns=['pergunta', 'resposta', 'contexto'])"
   ]
  },
  {
   "cell_type": "code",
   "execution_count": 15,
   "metadata": {},
   "outputs": [],
   "source": [
    "for i in range(len(df_novo), len(df)):\n",
    "    nova_linha = {'pergunta': translate_text(df[\"pergunta\"][i]), 'resposta': translate_text(df[\"resposta\"][i]), 'contexto': translate_text(df[\"contexto\"][i])}\n",
    "\n",
    "    # Inserir a nova linha no DataFrame\n",
    "    df_novo = pd.concat([df_novo, pd.DataFrame([nova_linha])], ignore_index=True)\n"
   ]
  },
  {
   "cell_type": "code",
   "execution_count": 18,
   "metadata": {},
   "outputs": [
    {
     "data": {
      "text/plain": [
       "3183"
      ]
     },
     "execution_count": 18,
     "metadata": {},
     "output_type": "execute_result"
    }
   ],
   "source": [
    "len(df_novo)"
   ]
  },
  {
   "cell_type": "code",
   "execution_count": 17,
   "metadata": {},
   "outputs": [],
   "source": [
    "df_novo.to_csv('Dataset_Pergunta_resposta_en.csv', index=False)"
   ]
  }
 ],
 "metadata": {
  "kernelspec": {
   "display_name": "Python 3",
   "language": "python",
   "name": "python3"
  },
  "language_info": {
   "codemirror_mode": {
    "name": "ipython",
    "version": 3
   },
   "file_extension": ".py",
   "mimetype": "text/x-python",
   "name": "python",
   "nbconvert_exporter": "python",
   "pygments_lexer": "ipython3",
   "version": "3.10.12"
  }
 },
 "nbformat": 4,
 "nbformat_minor": 2
}
