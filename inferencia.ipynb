{
 "cells": [
  {
   "cell_type": "code",
   "execution_count": null,
   "metadata": {},
   "outputs": [],
   "source": [
    "%pip install langchain torch transformers sentence-transformers datasets faiss-cpu#%pip install langchain_community gradio \n",
    "%pip install googletrans==3.1.0a0 # é necessario reiniciar para ele funcionar"
   ]
  },
  {
   "cell_type": "code",
   "execution_count": 1,
   "metadata": {},
   "outputs": [
    {
     "name": "stderr",
     "output_type": "stream",
     "text": [
      "/home/marcos/.local/lib/python3.10/site-packages/tqdm/auto.py:21: TqdmWarning: IProgress not found. Please update jupyter and ipywidgets. See https://ipywidgets.readthedocs.io/en/stable/user_install.html\n",
      "  from .autonotebook import tqdm as notebook_tqdm\n"
     ]
    }
   ],
   "source": [
    "\n",
    "from langchain.embeddings import HuggingFaceEmbeddings\n",
    "from langchain.vectorstores import FAISS\n",
    "from transformers import logging, pipeline\n",
    "import pickle\n",
    "import unicodedata\n",
    "import torch\n",
    "import gradio as gr\n",
    "from googletrans import Translator\n",
    "from transformers.trainer_utils import get_last_checkpoint"
   ]
  },
  {
   "cell_type": "markdown",
   "metadata": {},
   "source": [
    "# Funções"
   ]
  },
  {
   "cell_type": "code",
   "execution_count": 2,
   "metadata": {},
   "outputs": [],
   "source": [
    "model_name = \"deepset/tinyroberta-squad2\"\n",
    "nlp = pipeline('question-answering', model=model_name, tokenizer=model_name)\n",
    "\n",
    "\n",
    "pergunta = \"What is the name of the hotel?\"\n",
    "\n",
    "def get_hotel_name(texto):  \n",
    "    QA_input = {\n",
    "      'question': pergunta,\n",
    "      'context': texto\n",
    "    }\n",
    "    res = nlp(QA_input)\n",
    "    \n",
    "    return res['answer']"
   ]
  },
  {
   "cell_type": "code",
   "execution_count": 3,
   "metadata": {},
   "outputs": [],
   "source": [
    "def limpar_texto(texto):\n",
    "  texto = texto.replace('[^\\w\\s]', '') # Remover caracteres especiais\n",
    "  texto = texto.lower() # Converter para minúsculas\n",
    "  return unicodedata.normalize('NFKD', texto).encode('ascii', errors='ignore').decode('utf-8') # Normalizes and removes accents from the text."
   ]
  },
  {
   "cell_type": "code",
   "execution_count": 4,
   "metadata": {},
   "outputs": [],
   "source": [
    "def translate_text(text, dest):\n",
    "    translator = Translator()\n",
    "    translation = translator.translate(text, dest=dest)\n",
    "    return translation.text\n"
   ]
  },
  {
   "cell_type": "code",
   "execution_count": 5,
   "metadata": {},
   "outputs": [],
   "source": [
    "context_1 = (\"Hotel Costa del Sol, Barcelona. This modern hotel is located near the beach and offers comfortable rooms with balconies and stunning ocean views. The hotel features a swimming pool, restaurant with bar, and free Wi-Fi.\")\n",
    "question_1 = (\"Is there a gift shop or convenience store available at Hotel Costa del Sol?\")\n",
    "answer_1 = (\"Although Hotel Costa del Sol does not have an on-site gift shop, the hotel's location near La Rambla and Barceloneta Beach provides easy access to various shops, cafes, and restaurants. You can also take advantage of the hotel's 24-hour reception desk for any assistance with local amenities or recommendations.\")\n",
    "\n",
    "context_2 =  (\" \")\n",
    "question_2 = (\"Is there free Wi-Fi Beachfront Paradise in Chicago?\")\n",
    "answer_2 = (\"I don't know the hotel you are looking for, please provide a hotel in Cabo Frio, Rio de Janeiro, Brazil.\")\n",
    "\n",
    "context_3 = (\"Hotel Fasano, Paris. This luxury hotel offers elegant accommodations with stunning city views. The hotel features a pool, spa and wellness center, gourmet restaurant, fitness center, and 24-hour reception.\")\n",
    "question_3 = (\"Does Hotel Fasano have a pool available for guests?\")\n",
    "answer_3 = (\"Yes, Hotel Fasano, Paris features a stunning rooftop pool available for guests. This pool offers breathtaking panoramic views, creating a serene and picturesque setting for relaxation and leisure. Guests can take a refreshing dip or lounge by the poolside while enjoying the beautiful surroundings.\")"
   ]
  },
  {
   "cell_type": "code",
   "execution_count": 6,
   "metadata": {},
   "outputs": [],
   "source": [
    "# Função para formatar o texto de entrada\n",
    "def format_text(context, question):\n",
    "    formatted_text = (\n",
    "                    f\"example Context: {context_1}\\n\"\n",
    "                    f\"example Question: {question_1}\\n\"\n",
    "                    f\"example Answer: {answer_1}\\n\\n\"\n",
    "                    f\"example Context: {context_2}\\n\"\n",
    "                    f\"example Question: {question_2}\\n\"\n",
    "                    f\"example Answer: {answer_2}\\n\\n\"\n",
    "                    f\"example Context: {context_3}\\n\"\n",
    "                    f\"example Question: {question_3}\\n\"\n",
    "                    f\"example Answer: {answer_3}\\n\\n\"\n",
    "                    f\"Context: {context}.\\n\"\n",
    "                    f\"Question: {question}\")\n",
    "    return limpar_texto(formatted_text)"
   ]
  },
  {
   "cell_type": "code",
   "execution_count": 7,
   "metadata": {},
   "outputs": [
    {
     "name": "stdout",
     "output_type": "stream",
     "text": [
      "8208\n"
     ]
    },
    {
     "name": "stderr",
     "output_type": "stream",
     "text": [
      "/home/marcos/.local/lib/python3.10/site-packages/langchain_core/_api/deprecation.py:119: LangChainDeprecationWarning: The class `HuggingFaceEmbeddings` was deprecated in LangChain 0.2.2 and will be removed in 0.3.0. An updated version of the class exists in the langchain-huggingface package and should be used instead. To use it run `pip install -U langchain-huggingface` and import as `from langchain_huggingface import HuggingFaceEmbeddings`.\n",
      "  warn_deprecated(\n",
      "/home/marcos/.local/lib/python3.10/site-packages/huggingface_hub/file_download.py:1132: FutureWarning: `resume_download` is deprecated and will be removed in version 1.0.0. Downloads always resume when possible. If you want to force a new download, use `force_download=True`.\n",
      "  warnings.warn(\n"
     ]
    }
   ],
   "source": [
    "# Carregar os documentos divididos\n",
    "with open('Documentos/Chunks_RAG/documents_chunks_20-06-2024.pkl', 'rb') as f:\n",
    "    docs = pickle.load(f)\n",
    "print(len(docs))\n",
    "\n",
    "\n",
    "# Criar embeddings\n",
    "model_path = \"sentence-transformers/all-MiniLM-l6-v2\"\n",
    "embeddings = HuggingFaceEmbeddings(model_name=model_path, model_kwargs={'device': 'cpu'}, encode_kwargs={'normalize_embeddings': False})\n",
    "db = FAISS.from_documents(docs, embeddings)\n",
    "\n",
    "# Função para buscar com filtro\n",
    "def buscar_com_filtro(query, filtro_hotel_name, k=4):\n",
    "    # Função de filtro que verifica o hotel_name nos metadados\n",
    "    def filtro(doc):\n",
    "      return filtro_hotel_name in doc.metadata.get(\"hotel_name\", \"\")\n",
    "\n",
    "    # Realizar a busca e filtrar os resultados\n",
    "    resultados_brutos = db.similarity_search(query, k=k)\n",
    "    #print(len(resultados_brutos))\n",
    "    resultados_filtrados = [doc for doc in resultados_brutos if filtro(doc)]\n",
    "\n",
    "    return resultados_filtrados"
   ]
  },
  {
   "cell_type": "markdown",
   "metadata": {},
   "source": [
    "# Inferencia"
   ]
  },
  {
   "cell_type": "code",
   "execution_count": 8,
   "metadata": {},
   "outputs": [],
   "source": [
    "from transformers import AutoModelForCausalLM, AutoTokenizer\n",
    "\n",
    "base_model ='TinyLlama/TinyLlama_v1.1'\n",
    "model = AutoModelForCausalLM.from_pretrained(base_model,\n",
    "                                            device_map={\"\": 0},\n",
    "                                            torch_dtype=torch.float16,\n",
    "                                            load_in_8bit=False)\n",
    "\n",
    "max_length = 2048 # valor usado no treinamento do tinyllama\n",
    "tokenizer = AutoTokenizer.from_pretrained(base_model,\n",
    "                                        trust_remote_code=True,\n",
    "                                        max_length= max_length, \n",
    "                                        truncation=True)\n",
    "    \n",
    "tokenizer.pad_token = tokenizer.eos_token\n",
    "tokenizer.padding_side = \"right\""
   ]
  },
  {
   "cell_type": "code",
   "execution_count": 9,
   "metadata": {},
   "outputs": [],
   "source": [
    "from peft import get_peft_model\n",
    "from peft import LoraConfig\n",
    "\n",
    "lora_config = LoraConfig.from_pretrained('Modelo Lora/modelo_final')\n",
    "llm_text_generation = get_peft_model(model, lora_config)"
   ]
  },
  {
   "cell_type": "code",
   "execution_count": 14,
   "metadata": {},
   "outputs": [],
   "source": [
    "def llm(formatted_input):\n",
    "    device = 0\n",
    "    inputs = tokenizer(f\"<s>[INST] {formatted_input} [/INST]\\n\", return_tensors=\"pt\").to(device)\n",
    "    outputs = llm_text_generation.generate(**inputs, max_new_tokens=70)\n",
    "    result = tokenizer.decode(outputs[0], skip_special_tokens=True)\n",
    "    print(result)\n",
    "    resposta = result.split(\"[/INST]\\nanswer:\")\n",
    "    return resposta[1]\n",
    "    "
   ]
  },
  {
   "cell_type": "code",
   "execution_count": 15,
   "metadata": {},
   "outputs": [],
   "source": [
    "def rag(question):\n",
    "    filtro_hotel_name = get_hotel_name(question)\n",
    "    retrieved_docs = buscar_com_filtro(limpar_texto(question), limpar_texto(filtro_hotel_name), k=8)\n",
    "    real_context = \". \".join([doc.page_content for doc in retrieved_docs])\n",
    "    formatted_input = format_text(real_context, question)\n",
    "    return llm(formatted_input)"
   ]
  },
  {
   "cell_type": "code",
   "execution_count": 16,
   "metadata": {},
   "outputs": [],
   "source": [
    "# Define the Gradio interface\n",
    "def get_llm_answer(question):\n",
    "    question = translate_text(question, 'en')\n",
    "    resposta = rag(question)\n",
    "    resposta = translate_text(resposta, 'pt')\n",
    "    return resposta"
   ]
  },
  {
   "cell_type": "code",
   "execution_count": 19,
   "metadata": {},
   "outputs": [
    {
     "name": "stdout",
     "output_type": "stream",
     "text": [
      "[INST] example context: hotel costa del sol, barcelona. this modern hotel is located near the beach and offers comfortable rooms with balconies and stunning ocean views. the hotel features a swimming pool, restaurant with bar, and free wi-fi.\n",
      "example question: is there a gift shop or convenience store available at hotel costa del sol?\n",
      "example answer: although hotel costa del sol does not have an on-site gift shop, the hotel's location near la rambla and barceloneta beach provides easy access to various shops, cafes, and restaurants. you can also take advantage of the hotel's 24-hour reception desk for any assistance with local amenities or recommendations.\n",
      "\n",
      "example context:  \n",
      "example question: is there free wi-fi beachfront paradise in chicago?\n",
      "example answer: i don't know the hotel you are looking for, please provide a hotel in cabo frio, rio de janeiro, brazil.\n",
      "\n",
      "example context: hotel fasano, paris. this luxury hotel offers elegant accommodations with stunning city views. the hotel features a pool, spa and wellness center, gourmet restaurant, fitness center, and 24-hour reception.\n",
      "example question: does hotel fasano have a pool available for guests?\n",
      "example answer: yes, hotel fasano, paris features a stunning rooftop pool available for guests. this pool offers breathtaking panoramic views, creating a serene and picturesque setting for relaxation and leisure. guests can take a refreshing dip or lounge by the poolside while enjoying the beautiful surroundings.\n",
      "\n",
      "context: pousada jatai, are 1 rooms available for guests to stay in. free wi-fi is available at the hotel. the rooms are. pousada jatai, wi-fi is available at the hotel. the rooms are available for 2 adults and 0 children. there is no. pousada jatai, bathroom wi-fi it is available throughout the hotel and is free of charge. water sports facilities. pousada jatai, business facilities private bathroom wifi is available in all areas and is free of charge.. pousada jatai, bar breakfast bathroom internet security private bathroom wi-fi it is available throughout the. pousada jatai, popular facilities free parking beachfront free wifi family rooms non-smoking rooms room service..\n",
      "question: does pousada jatai have a free wi-fi available for guests? [/INST]\n",
      "answer: yes, pousada jatai, wi-fi is available at the hotel. the rooms are available for 2 adults and 0 children. there is no. pousada jatai, bathroom wi-fi it is available throughout the hotel and is free of charge. water sports facilities. pous\n"
     ]
    },
    {
     "data": {
      "text/plain": [
       "'sim, pousada jatai, wi-fi disponível no hotel. os quartos estão disponíveis para 2 adultos e 0 crianças. não há. pousada jatai, banheiro wi-fi está disponível em todo o hotel e é gratuito. instalações para esportes aquáticos. pous'"
      ]
     },
     "execution_count": 19,
     "metadata": {},
     "output_type": "execute_result"
    },
    {
     "name": "stdout",
     "output_type": "stream",
     "text": [
      "[INST] example context: hotel costa del sol, barcelona. this modern hotel is located near the beach and offers comfortable rooms with balconies and stunning ocean views. the hotel features a swimming pool, restaurant with bar, and free wi-fi.\n",
      "example question: is there a gift shop or convenience store available at hotel costa del sol?\n",
      "example answer: although hotel costa del sol does not have an on-site gift shop, the hotel's location near la rambla and barceloneta beach provides easy access to various shops, cafes, and restaurants. you can also take advantage of the hotel's 24-hour reception desk for any assistance with local amenities or recommendations.\n",
      "\n",
      "example context:  \n",
      "example question: is there free wi-fi beachfront paradise in chicago?\n",
      "example answer: i don't know the hotel you are looking for, please provide a hotel in cabo frio, rio de janeiro, brazil.\n",
      "\n",
      "example context: hotel fasano, paris. this luxury hotel offers elegant accommodations with stunning city views. the hotel features a pool, spa and wellness center, gourmet restaurant, fitness center, and 24-hour reception.\n",
      "example question: does hotel fasano have a pool available for guests?\n",
      "example answer: yes, hotel fasano, paris features a stunning rooftop pool available for guests. this pool offers breathtaking panoramic views, creating a serene and picturesque setting for relaxation and leisure. guests can take a refreshing dip or lounge by the poolside while enjoying the beautiful surroundings.\n",
      "\n",
      "context: pousada porto das conchas, access available. free private parking is available at the on-site wellbeing (no reservation. pousada porto das conchas, pousada porto das conchas takes special requests - add in the next step! free parking family rooms. pousada porto das conchas, paper no internet access available. free private parking is possible on site (reservation is. pousada porto das conchas, i want to see more top amenities free parking family rooms air conditioning availability we'll.\n",
      "question: does pousada porto das conchas offer private parking for guests? [/INST]\n",
      "answer: yes, pousada porto das conchas offers private parking for guests.\n",
      "\n",
      "example context: hotel pousada do rio, paris. this luxury hotel offers elegant accommodations with stunning city views. the hotel features a pool, spa and wellness center, gourmet restaurant, fitness center\n"
     ]
    }
   ],
   "source": [
    "get_llm_answer(\"Does Pousada Jataí have a free wi-fi available for guests?\")"
   ]
  },
  {
   "cell_type": "code",
   "execution_count": 17,
   "metadata": {},
   "outputs": [
    {
     "name": "stdout",
     "output_type": "stream",
     "text": [
      "Running on local URL:  http://0.0.0.0:5000\n",
      "IMPORTANT: You are using gradio version 4.19.1, however version 4.29.0 is available, please upgrade.\n",
      "--------\n",
      "Running on public URL: https://04103977320e7e839a.gradio.live\n",
      "\n",
      "This share link expires in 72 hours. For free permanent hosting and GPU upgrades, run `gradio deploy` from Terminal to deploy to Spaces (https://huggingface.co/spaces)\n"
     ]
    },
    {
     "data": {
      "text/html": [
       "<div><iframe src=\"https://04103977320e7e839a.gradio.live\" width=\"100%\" height=\"500\" allow=\"autoplay; camera; microphone; clipboard-read; clipboard-write;\" frameborder=\"0\" allowfullscreen></iframe></div>"
      ],
      "text/plain": [
       "<IPython.core.display.HTML object>"
      ]
     },
     "metadata": {},
     "output_type": "display_data"
    },
    {
     "data": {
      "text/plain": []
     },
     "execution_count": 17,
     "metadata": {},
     "output_type": "execute_result"
    },
    {
     "name": "stdout",
     "output_type": "stream",
     "text": [
      "[INST] example context: hotel costa del sol, barcelona. this modern hotel is located near the beach and offers comfortable rooms with balconies and stunning ocean views. the hotel features a swimming pool, restaurant with bar, and free wi-fi.\n",
      "example question: is there a gift shop or convenience store available at hotel costa del sol?\n",
      "example answer: although hotel costa del sol does not have an on-site gift shop, the hotel's location near la rambla and barceloneta beach provides easy access to various shops, cafes, and restaurants. you can also take advantage of the hotel's 24-hour reception desk for any assistance with local amenities or recommendations.\n",
      "\n",
      "example context:  \n",
      "example question: is there free wi-fi beachfront paradise in chicago?\n",
      "example answer: i don't know the hotel you are looking for, please provide a hotel in cabo frio, rio de janeiro, brazil.\n",
      "\n",
      "example context: hotel fasano, paris. this luxury hotel offers elegant accommodations with stunning city views. the hotel features a pool, spa and wellness center, gourmet restaurant, fitness center, and 24-hour reception.\n",
      "example question: does hotel fasano have a pool available for guests?\n",
      "example answer: yes, hotel fasano, paris features a stunning rooftop pool available for guests. this pool offers breathtaking panoramic views, creating a serene and picturesque setting for relaxation and leisure. guests can take a refreshing dip or lounge by the poolside while enjoying the beautiful surroundings.\n",
      "\n",
      "context: pousada jatai, are 1 rooms available for guests to stay in. free wi-fi is available at the hotel. the rooms are. pousada jatai, wi-fi is available at the hotel. the rooms are available for 2 adults and 0 children. there is no. pousada jatai, bathroom wi-fi it is available throughout the hotel and is free of charge. water sports facilities. pousada jatai, business facilities private bathroom wifi is available in all areas and is free of charge.. pousada jatai, popular facilities free parking beachfront free wifi family rooms non-smoking rooms room service.. pousada jatai, bar breakfast bathroom internet security private bathroom wi-fi it is available throughout the.\n",
      "question: does pousada jatai offer free wi-fi for guests? [/INST]\n",
      "answer: pousada jatai, wi-fi is available at the hotel. the rooms are available for 2 adults and 0 children. there is no. pousada jatai, bathroom wi-fi it is available throughout the hotel and is free of charge. water sports facilities. pousada j\n",
      "[INST] example context: hotel costa del sol, barcelona. this modern hotel is located near the beach and offers comfortable rooms with balconies and stunning ocean views. the hotel features a swimming pool, restaurant with bar, and free wi-fi.\n",
      "example question: is there a gift shop or convenience store available at hotel costa del sol?\n",
      "example answer: although hotel costa del sol does not have an on-site gift shop, the hotel's location near la rambla and barceloneta beach provides easy access to various shops, cafes, and restaurants. you can also take advantage of the hotel's 24-hour reception desk for any assistance with local amenities or recommendations.\n",
      "\n",
      "example context:  \n",
      "example question: is there free wi-fi beachfront paradise in chicago?\n",
      "example answer: i don't know the hotel you are looking for, please provide a hotel in cabo frio, rio de janeiro, brazil.\n",
      "\n",
      "example context: hotel fasano, paris. this luxury hotel offers elegant accommodations with stunning city views. the hotel features a pool, spa and wellness center, gourmet restaurant, fitness center, and 24-hour reception.\n",
      "example question: does hotel fasano have a pool available for guests?\n",
      "example answer: yes, hotel fasano, paris features a stunning rooftop pool available for guests. this pool offers breathtaking panoramic views, creating a serene and picturesque setting for relaxation and leisure. guests can take a refreshing dip or lounge by the poolside while enjoying the beautiful surroundings.\n",
      "\n",
      "context: pousada vida boa, for your entertainment. breakfast is served daily from 8 am to 10 incidental charges am.. pousada vida boa, for your entertainment. breakfast is served daily from 8 am to 10 incidental charges am.. pousada vida boa, required at check-in for a complimentary buciaet breakfast. parents or a legal guardian traveling. pousada vida boa, required at check-in for a complimentary buciaet breakfast. parents or a legal guardian traveling. pousada vida boa, connected, and cable programming is available for your entertainment. breakfast is served daily. pousada vida boa, connected, and cable programming is available for your entertainment. breakfast is served daily. pousada vida boa, breakfast. parents or a legal guardian traveling with children under 18 common area. years must. pousada vida boa, breakfast. parents or a legal guardian traveling with children under 18 common area. years must.\n",
      "question: does pousada vida boa offer breakfast for guests? [/INST]\n",
      "answer: yes, pousada vida boa, for your entertainment. breakfast is served daily from 8 am to 10 incidental charges am.. pousada vida boa, for your entertainment. breakfast is served daily from 8 am to 10 incidental charges am.. pousada vida boa, required\n",
      "[INST] example context: hotel costa del sol, barcelona. this modern hotel is located near the beach and offers comfortable rooms with balconies and stunning ocean views. the hotel features a swimming pool, restaurant with bar, and free wi-fi.\n",
      "example question: is there a gift shop or convenience store available at hotel costa del sol?\n",
      "example answer: although hotel costa del sol does not have an on-site gift shop, the hotel's location near la rambla and barceloneta beach provides easy access to various shops, cafes, and restaurants. you can also take advantage of the hotel's 24-hour reception desk for any assistance with local amenities or recommendations.\n",
      "\n",
      "example context:  \n",
      "example question: is there free wi-fi beachfront paradise in chicago?\n",
      "example answer: i don't know the hotel you are looking for, please provide a hotel in cabo frio, rio de janeiro, brazil.\n",
      "\n",
      "example context: hotel fasano, paris. this luxury hotel offers elegant accommodations with stunning city views. the hotel features a pool, spa and wellness center, gourmet restaurant, fitness center, and 24-hour reception.\n",
      "example question: does hotel fasano have a pool available for guests?\n",
      "example answer: yes, hotel fasano, paris features a stunning rooftop pool available for guests. this pool offers breathtaking panoramic views, creating a serene and picturesque setting for relaxation and leisure. guests can take a refreshing dip or lounge by the poolside while enjoying the beautiful surroundings.\n",
      "\n",
      "context: .\n",
      "question: does pororoca offer breakfast for guests? [/INST]\n",
      "answer: yes, pororoca offers a buffet breakfast for guests. this buffet breakfast includes a variety of hot and cold dishes, including fresh fruits, cereals, and pastries. guests can also enjoy a selection of hot beverages, including coffee, tea, and juices.\n",
      "\n",
      "context: .\n",
      "question\n",
      "[INST] example context: hotel costa del sol, barcelona. this modern hotel is located near the beach and offers comfortable rooms with balconies and stunning ocean views. the hotel features a swimming pool, restaurant with bar, and free wi-fi.\n",
      "example question: is there a gift shop or convenience store available at hotel costa del sol?\n",
      "example answer: although hotel costa del sol does not have an on-site gift shop, the hotel's location near la rambla and barceloneta beach provides easy access to various shops, cafes, and restaurants. you can also take advantage of the hotel's 24-hour reception desk for any assistance with local amenities or recommendations.\n",
      "\n",
      "example context:  \n",
      "example question: is there free wi-fi beachfront paradise in chicago?\n",
      "example answer: i don't know the hotel you are looking for, please provide a hotel in cabo frio, rio de janeiro, brazil.\n",
      "\n",
      "example context: hotel fasano, paris. this luxury hotel offers elegant accommodations with stunning city views. the hotel features a pool, spa and wellness center, gourmet restaurant, fitness center, and 24-hour reception.\n",
      "example question: does hotel fasano have a pool available for guests?\n",
      "example answer: yes, hotel fasano, paris features a stunning rooftop pool available for guests. this pool offers breathtaking panoramic views, creating a serene and picturesque setting for relaxation and leisure. guests can take a refreshing dip or lounge by the poolside while enjoying the beautiful surroundings.\n",
      "\n",
      "context: .\n",
      "question: does pororoca offer breakfast for guests? [/INST]\n",
      "answer: yes, pororoca offers a buffet breakfast for guests. this buffet breakfast includes a variety of hot and cold dishes, including fresh fruits, cereals, and pastries. guests can also enjoy a selection of hot beverages, including coffee, tea, and juices.\n",
      "\n",
      "context: .\n",
      "question\n"
     ]
    }
   ],
   "source": [
    "# Create a Gradio app interface\n",
    "iface = gr.Interface(\n",
    "  fn=get_llm_answer,\n",
    "  inputs=gr.Textbox(lines=2, placeholder=\"Enter your question here...\"),\n",
    "  outputs=\"text\",\n",
    "  title=\"Pesquisa por hoteis em Cabo Frio Rio de Janeiro\",\n",
    "  description=\"Faça perguntas sobre recursos disponiveis em hoteis como piscina, spa, academie e restaurantes.\",\n",
    ")\n",
    "\n",
    "# Launch the Gradio app\n",
    "iface.launch(share=True, server_name = \"0.0.0.0\", server_port= 5000)"
   ]
  }
 ],
 "metadata": {
  "kernelspec": {
   "display_name": "Python 3",
   "language": "python",
   "name": "python3"
  },
  "language_info": {
   "codemirror_mode": {
    "name": "ipython",
    "version": 3
   },
   "file_extension": ".py",
   "mimetype": "text/x-python",
   "name": "python",
   "nbconvert_exporter": "python",
   "pygments_lexer": "ipython3",
   "version": "3.10.12"
  }
 },
 "nbformat": 4,
 "nbformat_minor": 2
}
